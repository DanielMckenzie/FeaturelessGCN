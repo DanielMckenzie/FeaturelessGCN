{
 "cells": [
  {
   "cell_type": "code",
   "execution_count": 1,
   "metadata": {},
   "outputs": [],
   "source": [
    "import numpy as np\n",
    "import pickle as pk\n",
    "from src.get_data import SBM, DCSBM, BASBM\n",
    "from src.plots import plot_feature, plot_heatmap, plot_graph, plot_degree\n",
    "import matplotlib.pyplot as plt\n",
    "from sklearn.manifold import TSNE"
   ]
  },
  {
   "cell_type": "code",
   "execution_count": 2,
   "metadata": {},
   "outputs": [],
   "source": [
    "# set parameters\n",
    "\n",
    "c = 2\n",
    "# num = 200\n",
    "# sizes = np.ones(c, dtype = 'int') * num\n",
    "sizes = np.array([1000,1000]) \n",
    "node_num = sizes.sum()\n",
    "\n",
    "p = 0.2\n",
    "q = 0.199\n",
    "tsne = TSNE()\n",
    "\n",
    "# mus = np.random.rand(2,128)\n",
    "# sigmas = np.random.rand(2,128)\n",
    "mus = np.ones((2,64))\n",
    "mus[0,:] = mus[0,:] * 0.5\n",
    "mus[1,:] = mus[1,:] * (-0.5)\n",
    "# sigmas = np.random.rand(2,128)\n",
    "sigmas = np.ones((2,64))\n",
    "\n",
    "# mus = np.array([[10, 3],[1,8]])\n",
    "# sigmas = np.array([[1, 8],[4,6]])\n",
    "\n",
    "probs = np.ones((c,c)) * q + np.eye((c)) * (p-q)\n",
    "\n",
    "noise = 0.05\n",
    "radius = [1.2, 0.8]"
   ]
  },
  {
   "cell_type": "code",
   "execution_count": 3,
   "metadata": {},
   "outputs": [],
   "source": [
    "# generate graph\n",
    "\n",
    "A, X, Y = SBM(sizes, probs, mus, sigmas, noise, radius, feats_type='gaussian', selfloops=True)\n",
    "# A, X, Y = BASBM(sizes, probs, mus, sigmas, noise, radius, feats_type='gaussian', selfloops=True)\n",
    "# A, X, Y = DCSBM(sizes, probs, mus, sigmas) \n"
   ]
  },
  {
   "cell_type": "code",
   "execution_count": 4,
   "metadata": {},
   "outputs": [],
   "source": [
    "# plot_graph(A, Y)"
   ]
  },
  {
   "cell_type": "code",
   "execution_count": null,
   "metadata": {},
   "outputs": [],
   "source": [
    "# # plot feature distribution\n",
    "res = tsne.fit_transform(X)\n",
    "plt.scatter(res[:,0], res[:,1],c = Y)\n",
    "plot_feature(X, Y, c)"
   ]
  },
  {
   "cell_type": "code",
   "execution_count": null,
   "metadata": {},
   "outputs": [],
   "source": [
    "# # plot degree distribution\n",
    "plot_degree(A)"
   ]
  },
  {
   "cell_type": "code",
   "execution_count": null,
   "metadata": {},
   "outputs": [],
   "source": [
    "# save graph as pickle file\n",
    "\n",
    "name = 'SmallGaptest'\n",
    "\n",
    "file = open('./data/synthetic/A_'+ name + '.pkl','wb')\n",
    "pk.dump(A, file) \n",
    "file.close()\n",
    "\n",
    "file = open('./data/synthetic/X_'+ name + '.pkl','wb')\n",
    "pk.dump(X, file) \n",
    "file.close()\n",
    "\n",
    "file = open('./data/synthetic/Y_'+ name + '.pkl','wb')\n",
    "pk.dump(Y, file) \n",
    "file.close()\n",
    "\n",
    "\n",
    "\n"
   ]
  },
  {
   "cell_type": "code",
   "execution_count": null,
   "metadata": {},
   "outputs": [],
   "source": []
  },
  {
   "cell_type": "code",
   "execution_count": null,
   "metadata": {},
   "outputs": [],
   "source": []
  }
 ],
 "metadata": {
  "kernelspec": {
   "display_name": "Python 3",
   "language": "python",
   "name": "python3"
  },
  "language_info": {
   "codemirror_mode": {
    "name": "ipython",
    "version": 3
   },
   "file_extension": ".py",
   "mimetype": "text/x-python",
   "name": "python",
   "nbconvert_exporter": "python",
   "pygments_lexer": "ipython3",
   "version": "3.6.5"
  }
 },
 "nbformat": 4,
 "nbformat_minor": 2
}
